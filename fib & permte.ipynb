{
 "cells": [
  {
   "cell_type": "code",
   "execution_count": 5,
   "id": "fbfa2fb4-4964-4680-aa86-f7b32686a5f4",
   "metadata": {},
   "outputs": [
    {
     "name": "stdin",
     "output_type": "stream",
     "text": [
      "enter a name/word: abc\n"
     ]
    },
    {
     "name": "stdout",
     "output_type": "stream",
     "text": [
      "possibilities of combinations.....\n",
      "abc\n",
      "acb\n",
      "bac\n",
      "bca\n",
      "cab\n",
      "cba\n"
     ]
    }
   ],
   "source": [
    "#permuatations of char in tree recursion\n",
    "\n",
    "def permute(s, bucket=''):\n",
    "    if not s:\n",
    "        print(bucket)\n",
    "        return\n",
    "    for i in range(len(s)):\n",
    "        ns=s[:i]+s[i+1:]\n",
    "        permute(ns,bucket+s[i])\n",
    "text=input(\"enter a name/word:\")\n",
    "print(\"possibilities of combinations.....\")\n",
    "permute(text)"
   ]
  },
  {
   "cell_type": "code",
   "execution_count": 13,
   "id": "cd778e4c-557e-4067-ac81-09b891e873d9",
   "metadata": {},
   "outputs": [
    {
     "name": "stdin",
     "output_type": "stream",
     "text": [
      "enter length of string : 4\n"
     ]
    },
    {
     "name": "stdout",
     "output_type": "stream",
     "text": [
      "binary combinations......\n",
      " 0000\n",
      " 0001\n",
      " 0010\n",
      " 0011\n",
      " 0100\n",
      " 0101\n",
      " 0110\n",
      " 0111\n",
      " 1000\n",
      " 1001\n",
      " 1010\n",
      " 1011\n",
      " 1100\n",
      " 1101\n",
      " 1110\n",
      " 1111\n"
     ]
    }
   ],
   "source": [
    "def binary(n, b=' '):\n",
    "    if n==0:\n",
    "        print(b)\n",
    "        return\n",
    "    binary(n-1, b+'0')\n",
    "    binary(n-1, b+'1')\n",
    "length = int(input(\"enter length of string :\"))\n",
    "print(\"binary combinations......\")\n",
    "binary(length)"
   ]
  },
  {
   "cell_type": "code",
   "execution_count": null,
   "id": "bbe80e6d-697f-4209-9ee3-b9ece782f858",
   "metadata": {},
   "outputs": [],
   "source": [
    "0 1 1 2 3 5\n",
    "\n",
    "fib(n)\n",
    "if n<=1\n",
    "return n\n",
    "return fib(n-1)+fib(n-2)\n",
    "for i in range(4)\n",
    "\n",
    "i=0 n=0 0<=1 return 0\n",
    "i=1 n=1 1<=1 return 1\n",
    "i=2 n=2 2<=1 f fib(2-1)+fib(2-2)\n",
    "               fib(1)+fib(0)\n",
    "                 1   +  0=1\n",
    "fib(1) i=1 n=1 1<=1 return 1\n",
    "fib(0) i=0 n=0 0<=1 return 0\n",
    "\n",
    "i=3 n=3 3<=1 f fib(3-1)+ fib(3-2)\n",
    "               fib(2) + fib(1)\n",
    "                 1    +  0=1\n",
    "1=4 n=4 4<=1 f fib(4-1)+fib(4-2)\n",
    "               fib(3) + fib(2)\n",
    "                  2   +  1=3\n",
    "\n",
    "\n",
    "\n",
    "permute(abc, bucket=' ')\n",
    "\n",
    "for i in range(len(abc))   ns=s[:i]+s[i+1:]\n",
    "i=0   A \"bc\"\n",
    "i=1   B \"ac\"\n",
    "i=2   C \"ba\"\n",
    "\n",
    "permute(bc, bucket='a')\n",
    "i=0  B \"c\"\n",
    "i=1  C \"b\"\n",
    "permute(c, bucket-'abc')         permute(b, bucket=ac):\n",
    "i=0  c  \" \"                       i=0  b  new ' '\n",
    "permute(\" \",bucket='abc')        permute(\" \",bucket='abc')\n",
    "permute(\"abc\", bucket=' ')       ns=s[:i]+s[i+1:]\n",
    "permute(\"ac\", bucket=' ')\n",
    "i=0   A\"c\"\n",
    "i=1   C\"a\"\n",
    "permute(\"C\" ,bucket='ba')    permute(\"a\",bucket='bc')\n",
    "permute(\" \" ,bucket='bac')   permute(\" \", bucket='bca')\n",
    "\n",
    "\n"
   ]
  }
 ],
 "metadata": {
  "kernelspec": {
   "display_name": "Python 3 (ipykernel)",
   "language": "python",
   "name": "python3"
  },
  "language_info": {
   "codemirror_mode": {
    "name": "ipython",
    "version": 3
   },
   "file_extension": ".py",
   "mimetype": "text/x-python",
   "name": "python",
   "nbconvert_exporter": "python",
   "pygments_lexer": "ipython3",
   "version": "3.12.7"
  }
 },
 "nbformat": 4,
 "nbformat_minor": 5
}
